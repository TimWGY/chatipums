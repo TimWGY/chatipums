{
 "cells": [
  {
   "cell_type": "code",
   "execution_count": 152,
   "id": "93e451a5",
   "metadata": {},
   "outputs": [
    {
     "name": "stdout",
     "output_type": "stream",
     "text": [
      "\n",
      "Done, the environment is ready. Now Teach Me Scrape!\n",
      "\n"
     ]
    }
   ],
   "source": [
    "from scraper_functions import *\n",
    "from tqdm import tqdm\n",
    "import pandas as pd\n",
    "import numpy as np\n",
    "from datetime import datetime\n",
    "import time\n",
    "from random import random\n",
    "import pickle\n",
    "from selenium.webdriver.common.by import By\n",
    "from io import StringIO\n",
    "def js_click(element):\n",
    "    driver.execute_script('arguments[0].click();', element)\n",
    "from glob import glob\n",
    "from tqdm import tqdm\n",
    "import os\n",
    "import re\n",
    "import requests\n",
    "from bs4 import BeautifulSoup"
   ]
  },
  {
   "cell_type": "code",
   "execution_count": 153,
   "id": "4f0864bd",
   "metadata": {},
   "outputs": [],
   "source": [
    "def process_table_row(table_row):\n",
    "    _, popularity_str, table_name_str, universe_str, classifications_str, year_dataset_str, breakdowns_str = [td.get_attribute('outerHTML') for td in table_row.find_elements(By.TAG_NAME, 'td')]\n",
    "    popularity = int(re.findall(r'\"width\\:(\\d+)\\%\\;\"',popularity_str)[-1])\n",
    "    table_label = re.findall(r'<span class=\"monospace\">(.*?)\\.</span>',table_name_str)[0]\n",
    "    table_name = re.findall(r'<span class=\"grid-table-lable\">(.*?)</span>',table_name_str)[0]\n",
    "    universe = re.sub(r'<.*?>','',universe_str).strip()\n",
    "    classifications = tuple(re.findall(r'<a class=\"classification-details\" href=\"#\" id=\".*?\">(.*?)</a>',classifications_str))\n",
    "    year_dataset = re.sub(r'<.*?>','',year_dataset_str).strip()\n",
    "    breakdowns = re.sub(r'<.*?>','',breakdowns_str).strip()\n",
    "    return table_label, table_name, universe, classifications, year_dataset, breakdowns, popularity"
   ]
  },
  {
   "cell_type": "markdown",
   "id": "7a6e3b7d",
   "metadata": {},
   "source": [
    "#### TIME SERIES TABLE (TRACT LEVEL, ACS 2006-2022)"
   ]
  },
  {
   "cell_type": "code",
   "execution_count": 189,
   "id": "2176abd9",
   "metadata": {},
   "outputs": [],
   "source": [
    "# tract_ts_df = pd.read_html(StringIO(driver.find_element(By.XPATH, '//*[@id=\"time-series-grid\"]').get_attribute('outerHTML')))[0].loc[1:,2:].drop(4,axis=1)\n",
    "# tract_ts_df.columns = ['sequence','table_name','years','geographic_levels']\n",
    "# tract_ts_df = tract_ts_df.reset_index(drop=True)\n",
    "# tract_ts_df.to_feather(X 'nhgis_selected_time_series_tables.feather')"
   ]
  },
  {
   "cell_type": "markdown",
   "id": "1eb247f3",
   "metadata": {},
   "source": [
    "#### SOURCE TABLE (TRACT, BLOCKGROUP, BLOCK LEVELS)"
   ]
  },
  {
   "cell_type": "code",
   "execution_count": 168,
   "id": "42c47037",
   "metadata": {},
   "outputs": [],
   "source": [
    "# data_list = []"
   ]
  },
  {
   "cell_type": "code",
   "execution_count": 169,
   "id": "fd22ac4c",
   "metadata": {},
   "outputs": [],
   "source": [
    "# table = driver.find_element(By.ID, 'source-tables-grid')\n",
    "# table_rows = [tr for tr in table.find_elements(By.TAG_NAME,'tr')][1:]\n",
    "# data_list += [process_table_row(table_row) for table_row in table_rows]\n",
    "# len(data_list)//500"
   ]
  },
  {
   "cell_type": "code",
   "execution_count": 36,
   "id": "d1080877",
   "metadata": {},
   "outputs": [],
   "source": [
    "# tract_df = pd.DataFrame(data_list, columns='table_label, table_name, universe, classifications, year_dataset, breakdowns, popularity'.split(', '))\n",
    "# tract_df.to_feather('tract_df.feather')"
   ]
  },
  {
   "cell_type": "code",
   "execution_count": 56,
   "id": "cd42dc2b",
   "metadata": {},
   "outputs": [],
   "source": [
    "# blockgroup_df = pd.DataFrame(data_list, columns='table_label, table_name, universe, classifications, year_dataset, breakdowns, popularity'.split(', '))\n",
    "# blockgroup_df.to_feather('blockgroup_df.feather')"
   ]
  },
  {
   "cell_type": "code",
   "execution_count": 61,
   "id": "ac34ea12",
   "metadata": {},
   "outputs": [],
   "source": [
    "# block_df = pd.DataFrame(data_list, columns='table_label, table_name, universe, classifications, year_dataset, breakdowns, popularity'.split(', '))\n",
    "# block_df.to_feather('block_df.feather')"
   ]
  },
  {
   "cell_type": "code",
   "execution_count": 4,
   "id": "c2a799d7",
   "metadata": {},
   "outputs": [],
   "source": [
    "import pandas as pd\n",
    "import numpy as np\n",
    "import re\n",
    "from collections import Counter\n",
    "def flatten_list(l):\n",
    "    return [item for sublist in l for item in sublist] \n",
    "\n",
    "pd.set_option('display.max_columns', 100)\n",
    "pd.set_option('display.max_rows', 100)\n",
    "pd.set_option('display.max_colwidth', 200)\n",
    "pd.set_option('chained_assignment', None)\n",
    "\n",
    "tract_df = pd.read_feather('tract_df.feather')\n",
    "tract_df = tract_df.drop('breakdowns', axis=1)\n",
    "tract_df['geographic_level'] = 'tract'\n",
    "\n",
    "blockgroup_df = pd.read_feather('blockgroup_df.feather')\n",
    "blockgroup_df = blockgroup_df.drop('breakdowns', axis=1)\n",
    "blockgroup_df['geographic_level'] = 'blockgroup'\n",
    "\n",
    "block_df = pd.read_feather('block_df.feather')\n",
    "block_df = block_df.drop('breakdowns', axis=1)\n",
    "block_df['geographic_level'] = 'block'\n",
    "\n",
    "nhgis_df = pd.concat([tract_df, blockgroup_df, block_df], ignore_index=True)\n",
    "nhgis_df['year'] = nhgis_df['year_dataset'].apply(lambda x: [n for n in x.split('_') if n.isnumeric()][-1]).astype(int)\n",
    "\n",
    "# Counter(flatten_list(nhgis_df['classifications'])).most_common()\n",
    "# nhgis_df.loc[(nhgis_df['classifications'].apply(lambda li: 'Imputation/Allocation (2)' in li))&(nhgis_df['table_name'].apply(lambda x: ' '.join(x.split()[:2]) == 'Age by'))]\n",
    "nhgis_df.loc[nhgis_df['classifications'].apply(lambda li: any(['Imputation/Allocation ' in x for x in li])),'imputed_or_allocated'] = True\n",
    "nhgis_df['imputed_or_allocated'] = nhgis_df['imputed_or_allocated'].fillna(False)\n",
    "\n",
    "nhgis_df.loc[nhgis_df['table_label'].str.endswith('PR'),'puerto_rico_only'] = True\n",
    "nhgis_df['puerto_rico_only'] = nhgis_df['puerto_rico_only'].fillna(False)\n",
    "\n",
    "nhgis_df['subgroup_alone'] = nhgis_df['table_label'].apply(lambda x: x[-1].isalpha())\n",
    "nhgis_df['subgroup_alone'] = nhgis_df['subgroup_alone'].fillna(False)\n",
    "\n",
    "nhgis_df['table_category'] = nhgis_df['table_label'].apply(lambda x: x[0])\n",
    "# nhgis_df['table_category'].value_counts()\n",
    "# B    17545\n",
    "# C     1438\n",
    "# N      521\n",
    "# P      268\n",
    "# H      114\n",
    "\n",
    "nhgis_df.to_feather(X 'nhgis_selected_source_tables.feather')"
   ]
  }
 ],
 "metadata": {
  "kernelspec": {
   "display_name": "Python 3 (ipykernel)",
   "language": "python",
   "name": "python3"
  },
  "language_info": {
   "codemirror_mode": {
    "name": "ipython",
    "version": 3
   },
   "file_extension": ".py",
   "mimetype": "text/x-python",
   "name": "python",
   "nbconvert_exporter": "python",
   "pygments_lexer": "ipython3",
   "version": "3.8.12"
  }
 },
 "nbformat": 4,
 "nbformat_minor": 5
}
